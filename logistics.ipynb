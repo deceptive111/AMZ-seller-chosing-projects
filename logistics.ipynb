{
 "cells": [
  {
   "cell_type": "code",
   "execution_count": 12,
   "id": "62565c45",
   "metadata": {},
   "outputs": [],
   "source": [
    "import pandas as pd\n",
    "from sklearn.model_selection import train_test_split\n",
    "from sklearn.linear_model import LogisticRegression\n",
    "from sklearn.preprocessing import StandardScaler\n",
    "from sklearn.metrics import accuracy_score, confusion_matrix\n",
    "import numpy as np\n"
   ]
  },
  {
   "cell_type": "markdown",
   "id": "603d8bfe",
   "metadata": {},
   "source": [
    "模型方案：采用bootstrap进行重采样，利用标准逻辑斯蒂模型进行拟合\n"
   ]
  },
  {
   "cell_type": "markdown",
   "id": "756bf11b",
   "metadata": {},
   "source": [
    "模型结果：准确率77%。假阳性率35%，假阴性率16%，精确率83%，召回率83%（比率定义见后文）"
   ]
  },
  {
   "cell_type": "markdown",
   "id": "69c5b020",
   "metadata": {},
   "source": [
    "因子重要性排序：Current cycle sales,  Number of associated videos,  Unit price,  Related influencers,  Related live streaming,     Number of historical products(系数为负),  Monthly estimated revenue (million)(系数为负)。 排名越靠前意味着对在AMZ上架商品的概率的影响权重越大。\n"
   ]
  },
  {
   "cell_type": "markdown",
   "id": "9a129903",
   "metadata": {},
   "source": [
    "具体而言，可以有如下两种理解方式：第一、current cycle sale增加一个单位对概率的影响比在Unit price增加一个单位所施加的影响更大；第二，A商家比B商家 current cycle sales高出x，比B商家Unit price低x，其他条件一致的情况下，A商家更有可能上架AMZ"
   ]
  },
  {
   "cell_type": "markdown",
   "id": "9eada8dc",
   "metadata": {},
   "source": [
    "模型评价：总体准确率较高，假阳性率较高主要系TTS sheet1数据表的阴性阳性结构不平衡所致（阴性占比仅三分之一），导致模型倾向于采用宁可错杀，一个不漏的策略"
   ]
  },
  {
   "cell_type": "markdown",
   "id": "0379b124",
   "metadata": {},
   "source": [
    "模型结论：业务资源充足，追求快速增长的条件下本模型适用，着重将资源利用在高Current cycle sales,  Number of associated videos,  Unit price,  Related influencers,  Related live streaming的商家上，能够更加高效的利用资源吸引商户入住。"
   ]
  },
  {
   "cell_type": "markdown",
   "id": "273e1ca2",
   "metadata": {},
   "source": [
    "读取数据"
   ]
  },
  {
   "cell_type": "code",
   "execution_count": 13,
   "id": "c8b2f702",
   "metadata": {},
   "outputs": [
    {
     "data": {
      "text/html": [
       "<div>\n",
       "<style scoped>\n",
       "    .dataframe tbody tr th:only-of-type {\n",
       "        vertical-align: middle;\n",
       "    }\n",
       "\n",
       "    .dataframe tbody tr th {\n",
       "        vertical-align: top;\n",
       "    }\n",
       "\n",
       "    .dataframe thead th {\n",
       "        text-align: right;\n",
       "    }\n",
       "</style>\n",
       "<table border=\"1\" class=\"dataframe\">\n",
       "  <thead>\n",
       "    <tr style=\"text-align: right;\">\n",
       "      <th></th>\n",
       "      <th>TTS Brand</th>\n",
       "      <th>Product category</th>\n",
       "      <th>Monthly estimated revenue (million)</th>\n",
       "      <th>Current cycle sales</th>\n",
       "      <th>Number of historical products</th>\n",
       "      <th>Number of associated videos</th>\n",
       "      <th>Related influencers</th>\n",
       "      <th>Related live streaming</th>\n",
       "      <th>Unit price</th>\n",
       "      <th>Amazon presence (Yes or no)</th>\n",
       "      <th>AMZ presence</th>\n",
       "    </tr>\n",
       "  </thead>\n",
       "  <tbody>\n",
       "    <tr>\n",
       "      <th>0</th>\n",
       "      <td>Tarte Cosmetics</td>\n",
       "      <td>Beauty&amp;Personal Care</td>\n",
       "      <td>7.95</td>\n",
       "      <td>291.27</td>\n",
       "      <td>283</td>\n",
       "      <td>15.31</td>\n",
       "      <td>4.45</td>\n",
       "      <td>5.81</td>\n",
       "      <td>27.29</td>\n",
       "      <td>Y</td>\n",
       "      <td>1</td>\n",
       "    </tr>\n",
       "    <tr>\n",
       "      <th>1</th>\n",
       "      <td>medicube US Store</td>\n",
       "      <td>Beauty&amp;Personal Care</td>\n",
       "      <td>4.24</td>\n",
       "      <td>133.74</td>\n",
       "      <td>150</td>\n",
       "      <td>83.08</td>\n",
       "      <td>8.65</td>\n",
       "      <td>6.81</td>\n",
       "      <td>31.76</td>\n",
       "      <td>Y</td>\n",
       "      <td>1</td>\n",
       "    </tr>\n",
       "    <tr>\n",
       "      <th>2</th>\n",
       "      <td>wavytalk</td>\n",
       "      <td>Beauty&amp;Personal Care</td>\n",
       "      <td>3.02</td>\n",
       "      <td>86.73</td>\n",
       "      <td>71</td>\n",
       "      <td>20.32</td>\n",
       "      <td>2.95</td>\n",
       "      <td>2.37</td>\n",
       "      <td>34.87</td>\n",
       "      <td>Y</td>\n",
       "      <td>1</td>\n",
       "    </tr>\n",
       "    <tr>\n",
       "      <th>3</th>\n",
       "      <td>Dr.Melaxin Global</td>\n",
       "      <td>Beauty&amp;Personal Care</td>\n",
       "      <td>2.47</td>\n",
       "      <td>2.47</td>\n",
       "      <td>69</td>\n",
       "      <td>39.06</td>\n",
       "      <td>5.14</td>\n",
       "      <td>3.74</td>\n",
       "      <td>40.13</td>\n",
       "      <td>Y</td>\n",
       "      <td>1</td>\n",
       "    </tr>\n",
       "    <tr>\n",
       "      <th>4</th>\n",
       "      <td>Anua Store US</td>\n",
       "      <td>Beauty&amp;Personal Care</td>\n",
       "      <td>2.42</td>\n",
       "      <td>51.75</td>\n",
       "      <td>87</td>\n",
       "      <td>26.60</td>\n",
       "      <td>2.25</td>\n",
       "      <td>3.74</td>\n",
       "      <td>46.69</td>\n",
       "      <td>Y</td>\n",
       "      <td>1</td>\n",
       "    </tr>\n",
       "  </tbody>\n",
       "</table>\n",
       "</div>"
      ],
      "text/plain": [
       "           TTS Brand      Product category  \\\n",
       "0    Tarte Cosmetics  Beauty&Personal Care   \n",
       "1  medicube US Store  Beauty&Personal Care   \n",
       "2           wavytalk  Beauty&Personal Care   \n",
       "3  Dr.Melaxin Global  Beauty&Personal Care   \n",
       "4      Anua Store US  Beauty&Personal Care   \n",
       "\n",
       "   Monthly estimated revenue (million)  Current cycle sales  \\\n",
       "0                                 7.95               291.27   \n",
       "1                                 4.24               133.74   \n",
       "2                                 3.02                86.73   \n",
       "3                                 2.47                 2.47   \n",
       "4                                 2.42                51.75   \n",
       "\n",
       "   Number of historical products  Number of associated videos  \\\n",
       "0                            283                        15.31   \n",
       "1                            150                        83.08   \n",
       "2                             71                        20.32   \n",
       "3                             69                        39.06   \n",
       "4                             87                        26.60   \n",
       "\n",
       "   Related influencers  Related live streaming  Unit price  \\\n",
       "0                 4.45                    5.81       27.29   \n",
       "1                 8.65                    6.81       31.76   \n",
       "2                 2.95                    2.37       34.87   \n",
       "3                 5.14                    3.74       40.13   \n",
       "4                 2.25                    3.74       46.69   \n",
       "\n",
       "  Amazon presence (Yes or no)  AMZ presence  \n",
       "0                           Y             1  \n",
       "1                           Y             1  \n",
       "2                           Y             1  \n",
       "3                           Y             1  \n",
       "4                           Y             1  "
      ]
     },
     "execution_count": 13,
     "metadata": {},
     "output_type": "execute_result"
    }
   ],
   "source": [
    "ori_dataset=pd.read_excel(\"TTS selection.xlsx\")\n",
    "ori_dataset.head()"
   ]
  },
  {
   "cell_type": "markdown",
   "id": "c2bd3d0c",
   "metadata": {},
   "source": [
    "关键数据预处理"
   ]
  },
  {
   "cell_type": "code",
   "execution_count": 14,
   "id": "984e49a2",
   "metadata": {},
   "outputs": [],
   "source": [
    "#定义目标变量\n",
    "target=ori_dataset[\"AMZ presence\"]\n",
    "#设置有效特征：\n",
    "column=ori_dataset.columns.to_list()\n",
    "feature=ori_dataset[[name for name in column[2:9]]]"
   ]
  },
  {
   "cell_type": "markdown",
   "id": "e5e92487",
   "metadata": {},
   "source": [
    "数据量不够，需要重采样，用最基本的bootstrap"
   ]
  },
  {
   "cell_type": "code",
   "execution_count": 15,
   "id": "e97dd767",
   "metadata": {},
   "outputs": [
    {
     "name": "stdout",
     "output_type": "stream",
     "text": [
      "      Monthly estimated revenue (million)  Current cycle sales  \\\n",
      "0                                 3.02000                86.73   \n",
      "1                                 1.22000                98.27   \n",
      "2                                 2.42000                51.75   \n",
      "3                                 1.79000                76.39   \n",
      "4                                 1.93000                35.52   \n",
      "...                                   ...                  ...   \n",
      "2995                              1.79000                76.39   \n",
      "2996                              1.40000                73.17   \n",
      "2997                              1.45000                31.98   \n",
      "2998                              0.95492                21.68   \n",
      "2999                              1.04000                23.60   \n",
      "\n",
      "     Number of historical products  Number of associated videos  \\\n",
      "0                               71                        20.32   \n",
      "1                               52                        20.09   \n",
      "2                               87                        26.60   \n",
      "3                               79                        12.06   \n",
      "4                              181                        10.07   \n",
      "...                            ...                          ...   \n",
      "2995                            79                        12.06   \n",
      "2996                            22                        14.22   \n",
      "2997                           121                         7.67   \n",
      "2998                           138                        11.78   \n",
      "2999                             3                         4.09   \n",
      "\n",
      "      Related influencers  Related live streaming  Unit price  \\\n",
      "0                   2.950                   2.370       34.87   \n",
      "1                   5.150                   2.460       12.46   \n",
      "2                   2.250                   3.740       46.69   \n",
      "3                   1.080                   5.440       23.68   \n",
      "4                   1.960                   1.110       54.47   \n",
      "...                   ...                     ...         ...   \n",
      "2995                1.080                   5.440       23.68   \n",
      "2996                2.400                   1.890       19.13   \n",
      "2997                0.457                   1.400       45.59   \n",
      "2998                1.490                   1.180       44.07   \n",
      "2999                0.446                   0.855       44.23   \n",
      "\n",
      "      bootstrap_round  AMZ_presence  \n",
      "0                 0.0             1  \n",
      "1                 0.0             1  \n",
      "2                 0.0             1  \n",
      "3                 0.0             1  \n",
      "4                 0.0             1  \n",
      "...               ...           ...  \n",
      "2995             99.0             1  \n",
      "2996             99.0             0  \n",
      "2997             99.0             1  \n",
      "2998             99.0             1  \n",
      "2999             99.0             0  \n",
      "\n",
      "[3000 rows x 9 columns]\n"
     ]
    },
    {
     "name": "stderr",
     "output_type": "stream",
     "text": [
      "C:\\Users\\16333\\AppData\\Local\\Temp\\ipykernel_14248\\3168027661.py:15: FutureWarning: The behavior of DataFrame concatenation with empty or all-NA entries is deprecated. In a future version, this will no longer exclude empty or all-NA columns when determining the result dtypes. To retain the old behavior, exclude the relevant entries before the concat operation.\n",
      "  bootstrap_data=pd.concat([bootstrap_data,sampledata],ignore_index=True)\n"
     ]
    }
   ],
   "source": [
    "#设置参数\n",
    "n=100#重采样次数\n",
    "samplesize=len(ori_dataset)#每次采样的规模，进行有放回的采样。\n",
    "#这个samplesize意味着，我每次从原始数据中抽一个点出来记录进临时sample中，然后放回去再抽，直到sample被填满\n",
    "#更新的dataframe，这里是我们进行重采样后的，用来训练模型的样本集\n",
    "bootstrap_data=pd.DataFrame(columns=feature.columns)\n",
    "bootstrap_target=pd.Series(dtype=int)\n",
    "for i in range(n):\n",
    "    #有放回随机采样\n",
    "    slice=np.random.choice(range(samplesize),size=samplesize,replace=True)\n",
    "    #填进我们的重采样后的样本集\n",
    "    sampledata=feature.iloc[slice].copy()\n",
    "    sampletarget=target.iloc[slice].copy()\n",
    "    sampledata[\"bootstrap_round\"]=i#重采样轮次标识\n",
    "    bootstrap_data=pd.concat([bootstrap_data,sampledata],ignore_index=True)\n",
    "    bootstrap_target=pd.concat([bootstrap_target,sampletarget],ignore_index=True)\n",
    "#重采样结束，合并生成新的数据集\n",
    "bootstrap_data[\"AMZ_presence\"]=bootstrap_target\n",
    "print(bootstrap_data)"
   ]
  },
  {
   "cell_type": "markdown",
   "id": "7d8d5e66",
   "metadata": {},
   "source": [
    "数据集划分和拟合模型前准备"
   ]
  },
  {
   "cell_type": "code",
   "execution_count": 16,
   "id": "f750d1aa",
   "metadata": {},
   "outputs": [],
   "source": [
    "#设立X，Y\n",
    "AMZ_presence=bootstrap_data[\"AMZ_presence\"]\n",
    "column=bootstrap_data.columns\n",
    "X=bootstrap_data[[name for name in column[0:7]]]\n",
    "#测试集和训练集\n",
    "X_train,X_test,AMZ_presence_train,AMZ_presence_test=train_test_split(X,AMZ_presence,\n",
    "                                                                     test_size=0.2,random_state=42,stratify=AMZ_presence)\n",
    "#进行标准化处理，Z-score方法（就是x-mean/standard deviation）\n",
    "scaler=StandardScaler()\n",
    "X_train_scaled=scaler.fit_transform(X_train)\n",
    "X_test_scaled=scaler.fit_transform(X_test)"
   ]
  },
  {
   "cell_type": "markdown",
   "id": "2726eef0",
   "metadata": {},
   "source": [
    "拟合模型，训练和模型效力检查"
   ]
  },
  {
   "cell_type": "code",
   "execution_count": 17,
   "id": "0f17447b",
   "metadata": {},
   "outputs": [
    {
     "name": "stdout",
     "output_type": "stream",
     "text": [
      "准确率: 0.85\n",
      "混淆矩阵:\n",
      "[[159  30]\n",
      " [ 61 350]]\n"
     ]
    }
   ],
   "source": [
    "#创建模型\n",
    "model=LogisticRegression(\n",
    "    penalty=\"l2\",#正则化防止过拟合——即过度训练\n",
    "    C=1.0,#正则化强度，越小值越高，防止欠拟合问题\n",
    "    solver=\"lbfgs\",#逻辑斯蒂常用优化算法\n",
    "    max_iter=1000#迭代次数\n",
    "    )\n",
    "#拟合模型\n",
    "model.fit(X_train_scaled,AMZ_presence_train)\n",
    "#进行模型预测（测试）\n",
    "AMZ_presence_pred=model.predict(X_test_scaled)\n",
    "AMZ_presence_prob=model.predict_proba(X_test_scaled)[:,1]\n",
    "#展示准确率\n",
    "print(f\"准确率: {accuracy_score(AMZ_presence_pred, AMZ_presence_test):.2f}\")\n",
    "#展示混淆矩阵——判断模型性能\n",
    "print(\"混淆矩阵:\")\n",
    "print(confusion_matrix(AMZ_presence_test,AMZ_presence_pred))\n",
    "#混淆矩阵怎么看？\n",
    "#以这里的2×2矩阵为例。\n",
    "#第一行第一列的元素是实际上是0，模型判断也为0的个数(TN)——真阴性\n",
    "#第一行第二列的元素是实际上是0，但模型判断为1的个数(FP)——假阳性\n",
    "#第二行第一列的元素是实际上是1，但模型判断为0的个数(FN)——假阴性\n",
    "#第二行第二列的元素是实际上是1，模型判断也为1的个数(TP)——真阳性\n",
    "#在这个例子里，该模型判断的准确率较高。"
   ]
  },
  {
   "cell_type": "code",
   "execution_count": 18,
   "id": "c49bbc74",
   "metadata": {},
   "outputs": [
    {
     "name": "stdout",
     "output_type": "stream",
     "text": [
      "假阳性率: 0.15873015873015872\n",
      "假阴性率: 0.14841849148418493\n",
      "精确率: 0.9210526315789473\n",
      "召回率: 0.851581508515815\n"
     ]
    }
   ],
   "source": [
    "#关键指标计算\n",
    "matrix=confusion_matrix(AMZ_presence_test,AMZ_presence_pred)\n",
    "TN=matrix[0][0]\n",
    "FP=matrix[0][1]\n",
    "FN=matrix[1][0]\n",
    "TP=matrix[1][1]\n",
    "FPR=FP/(FP+TN)#假阳性率，错误的把不上架的归类进上架\n",
    "FNR=FN/(FN+TP)#假阴性率，错误的把要上架归类为不上架\n",
    "precision=TP/(TP+FP)#精确率，预测上架中实际上真的上架的比率\n",
    "recall=TP/(TP+FN)#召回率，实际真的上架中，预测也上架的比率\n",
    "print(\"假阳性率:\",FPR)\n",
    "print(\"假阴性率:\",FNR)\n",
    "print(\"精确率:\",precision)\n",
    "print(\"召回率:\",recall)"
   ]
  },
  {
   "cell_type": "markdown",
   "id": "85f996c7",
   "metadata": {},
   "source": [
    "从这里可以看到，模型最大的问题是假阳性太高，通过检查数据情况可以发现，主要问题在于数据的结构性不平衡，负样本比例过少，导致模型倾向于采用“宁可错杀也不放过的方案”"
   ]
  },
  {
   "cell_type": "markdown",
   "id": "0b19ff48",
   "metadata": {},
   "source": [
    "各因子重要程度"
   ]
  },
  {
   "cell_type": "code",
   "execution_count": 19,
   "id": "b99af128",
   "metadata": {},
   "outputs": [
    {
     "name": "stdout",
     "output_type": "stream",
     "text": [
      "\n",
      "特征重要性:\n",
      "                               Feature  Coefficient\n",
      "1                  Current cycle sales     4.816989\n",
      "3          Number of associated videos     3.207504\n",
      "6                           Unit price     3.148013\n",
      "4                  Related influencers     1.645597\n",
      "5               Related live streaming     0.979193\n",
      "2        Number of historical products    -0.273402\n",
      "0  Monthly estimated revenue (million)    -3.385936\n"
     ]
    }
   ],
   "source": [
    "importance = pd.DataFrame({\n",
    "    'Feature': feature.columns,\n",
    "    'Coefficient': model.coef_[0]\n",
    "}).sort_values('Coefficient', ascending=False)\n",
    "\n",
    "print(\"\\n特征重要性:\")\n",
    "print(importance)"
   ]
  }
 ],
 "metadata": {
  "kernelspec": {
   "display_name": "base",
   "language": "python",
   "name": "python3"
  },
  "language_info": {
   "codemirror_mode": {
    "name": "ipython",
    "version": 3
   },
   "file_extension": ".py",
   "mimetype": "text/x-python",
   "name": "python",
   "nbconvert_exporter": "python",
   "pygments_lexer": "ipython3",
   "version": "3.11.7"
  }
 },
 "nbformat": 4,
 "nbformat_minor": 5
}
